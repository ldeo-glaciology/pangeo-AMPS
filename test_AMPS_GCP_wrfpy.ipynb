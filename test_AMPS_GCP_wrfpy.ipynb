{
 "cells": [
  {
   "cell_type": "markdown",
   "metadata": {},
   "source": [
    "# Notebook TESTING lazyloading of AMPS domain 02 RAW output "
   ]
  },
  {
   "cell_type": "code",
   "execution_count": 1,
   "metadata": {},
   "outputs": [],
   "source": [
    "import xarray as xr\n",
    "import numpy as np\n",
    "import matplotlib.pyplot as plt\n",
    "from glob import glob\n",
    "import os\n",
    "\n",
    "import gcsfs\n",
    "from tqdm import tqdm\n",
    "import fsspec\n",
    "\n",
    "xr.set_options(display_style=\"html\");\n",
    "# xr.show_versions()"
   ]
  },
  {
   "cell_type": "code",
   "execution_count": 2,
   "metadata": {},
   "outputs": [
    {
     "name": "stdout",
     "output_type": "stream",
     "text": [
      "Collecting package metadata (current_repodata.json): done\n",
      "Solving environment: | \n",
      "The environment is inconsistent, please check the package plan carefully\n",
      "The following packages are causing the inconsistency:\n",
      "\n",
      "  - conda-forge/linux-64::esmf==8.0.1=mpi_mpich_h3cbecb6_102\n",
      "  - conda-forge/noarch::xesmf==0.5.1=pyhd8ed1ab_0\n",
      "  - conda-forge/linux-64::esmpy==8.0.1=mpi_mpich_py38h6f0bf2d_102\n",
      "failed with initial frozen solve. Retrying with flexible solve.\n",
      "Solving environment: failed with repodata from current_repodata.json, will retry with next repodata source.\n",
      "Collecting package metadata (repodata.json): done\n",
      "Solving environment: done\n",
      "\n",
      "\n",
      "==> WARNING: A newer version of conda exists. <==\n",
      "  current version: 4.9.2\n",
      "  latest version: 4.10.3\n",
      "\n",
      "Please update conda by running\n",
      "\n",
      "    $ conda update -n base conda\n",
      "\n",
      "\n",
      "\n",
      "## Package Plan ##\n",
      "\n",
      "  environment location: /srv/conda/envs/notebook\n",
      "\n",
      "  added / updated specs:\n",
      "    - netcdf4\n",
      "    - wrf-python\n",
      "\n",
      "\n",
      "The following packages will be downloaded:\n",
      "\n",
      "    package                    |            build\n",
      "    ---------------------------|-----------------\n",
      "    ca-certificates-2021.10.8  |       ha878542_0         139 KB  conda-forge\n",
      "    certifi-2021.10.8          |   py38h578d9bd_0         145 KB  conda-forge\n",
      "    netcdf4-1.5.6              |nompi_py38hf887595_102         556 KB  conda-forge\n",
      "    openssl-1.1.1k             |       h7f98852_0         2.1 MB  conda-forge\n",
      "    wrf-python-1.3.2.5         |   py38h0e9072a_0         5.1 MB  conda-forge\n",
      "    ------------------------------------------------------------\n",
      "                                           Total:         8.1 MB\n",
      "\n",
      "The following NEW packages will be INSTALLED:\n",
      "\n",
      "  wrf-python         conda-forge/linux-64::wrf-python-1.3.2.5-py38h0e9072a_0\n",
      "\n",
      "The following packages will be UPDATED:\n",
      "\n",
      "  ca-certificates                      2020.12.5-ha878542_0 --> 2021.10.8-ha878542_0\n",
      "  certifi                          2020.12.5-py38h578d9bd_1 --> 2021.10.8-py38h578d9bd_0\n",
      "  netcdf4                    1.5.5.1-nompi_py38h1cdf482_101 --> 1.5.6-nompi_py38hf887595_102\n",
      "  openssl                                 1.1.1i-h7f98852_0 --> 1.1.1k-h7f98852_0\n",
      "\n",
      "\n",
      "\n",
      "Downloading and Extracting Packages\n",
      "ca-certificates-2021 | 139 KB    | ##################################### | 100% \n",
      "openssl-1.1.1k       | 2.1 MB    | ##################################### | 100% \n",
      "certifi-2021.10.8    | 145 KB    | ##################################### | 100% \n",
      "netcdf4-1.5.6        | 556 KB    | ##################################### | 100% \n",
      "wrf-python-1.3.2.5   | 5.1 MB    | ##################################### | 100% \n",
      "Preparing transaction: done\n",
      "Verifying transaction: done\n",
      "Executing transaction: done\n"
     ]
    }
   ],
   "source": [
    "# Install a conda package in the current Jupyter kernel\n",
    "import sys\n",
    "!conda install --yes --prefix {sys.prefix} wrf-python netCDF4\n",
    "\n",
    "import wrf\n",
    "from netCDF4 import Dataset"
   ]
  },
  {
   "cell_type": "code",
   "execution_count": null,
   "metadata": {},
   "outputs": [],
   "source": []
  },
  {
   "cell_type": "markdown",
   "metadata": {},
   "source": [
    "# Dask Startup"
   ]
  },
  {
   "cell_type": "code",
   "execution_count": 3,
   "metadata": {},
   "outputs": [],
   "source": [
    "# xr.show_versions()"
   ]
  },
  {
   "cell_type": "code",
   "execution_count": 7,
   "metadata": {},
   "outputs": [],
   "source": [
    "## A chunk of code to start dask cluster\n",
    "from dask.distributed import Client, progress\n",
    "from dask_gateway import Gateway\n",
    "gateway = Gateway()"
   ]
  },
  {
   "cell_type": "code",
   "execution_count": 8,
   "metadata": {},
   "outputs": [
    {
     "name": "stdout",
     "output_type": "stream",
     "text": [
      "\n",
      "Connecting to pre-existing cluster with 4 workers.\n"
     ]
    },
    {
     "data": {
      "application/vnd.jupyter.widget-view+json": {
       "model_id": "40fba34630ca4d48bbee1e88904484ee",
       "version_major": 2,
       "version_minor": 0
      },
      "text/plain": [
       "VBox(children=(HTML(value='<h2>GatewayCluster</h2>'), HBox(children=(HTML(value='\\n<div>\\n<style scoped>\\n    …"
      ]
     },
     "metadata": {},
     "output_type": "display_data"
    },
    {
     "name": "stderr",
     "output_type": "stream",
     "text": [
      "Exception in callback None()\n",
      "handle: <Handle cancelled>\n",
      "Traceback (most recent call last):\n",
      "  File \"/srv/conda/envs/notebook/lib/python3.8/site-packages/tornado/iostream.py\", line 1391, in _do_ssl_handshake\n",
      "    self.socket.do_handshake()\n",
      "  File \"/srv/conda/envs/notebook/lib/python3.8/ssl.py\", line 1309, in do_handshake\n",
      "    self._sslobj.do_handshake()\n",
      "ssl.SSLCertVerificationError: [SSL: CERTIFICATE_VERIFY_FAILED] certificate verify failed: self signed certificate (_ssl.c:1124)\n",
      "\n",
      "During handling of the above exception, another exception occurred:\n",
      "\n",
      "Traceback (most recent call last):\n",
      "  File \"/srv/conda/envs/notebook/lib/python3.8/asyncio/events.py\", line 81, in _run\n",
      "    self._context.run(self._callback, *self._args)\n",
      "  File \"/srv/conda/envs/notebook/lib/python3.8/site-packages/tornado/platform/asyncio.py\", line 189, in _handle_events\n",
      "    handler_func(fileobj, events)\n",
      "  File \"/srv/conda/envs/notebook/lib/python3.8/site-packages/tornado/iostream.py\", line 696, in _handle_events\n",
      "    self._handle_read()\n",
      "  File \"/srv/conda/envs/notebook/lib/python3.8/site-packages/tornado/iostream.py\", line 1478, in _handle_read\n",
      "    self._do_ssl_handshake()\n",
      "  File \"/srv/conda/envs/notebook/lib/python3.8/site-packages/tornado/iostream.py\", line 1409, in _do_ssl_handshake\n",
      "    return self.close(exc_info=err)\n",
      "  File \"/srv/conda/envs/notebook/lib/python3.8/site-packages/tornado/iostream.py\", line 611, in close\n",
      "    self._signal_closed()\n",
      "  File \"/srv/conda/envs/notebook/lib/python3.8/site-packages/tornado/iostream.py\", line 641, in _signal_closed\n",
      "    self._ssl_connect_future.exception()\n",
      "asyncio.exceptions.CancelledError\n",
      "distributed.client - ERROR - Failed to reconnect to scheduler after 10.00 seconds, closing client\n",
      "_GatheringFuture exception was never retrieved\n",
      "future: <_GatheringFuture finished exception=CancelledError()>\n",
      "asyncio.exceptions.CancelledError\n",
      "Exception in callback None()\n",
      "handle: <Handle cancelled>\n",
      "Traceback (most recent call last):\n",
      "  File \"/srv/conda/envs/notebook/lib/python3.8/site-packages/tornado/iostream.py\", line 1391, in _do_ssl_handshake\n",
      "    self.socket.do_handshake()\n",
      "  File \"/srv/conda/envs/notebook/lib/python3.8/ssl.py\", line 1309, in do_handshake\n",
      "    self._sslobj.do_handshake()\n",
      "ssl.SSLCertVerificationError: [SSL: CERTIFICATE_VERIFY_FAILED] certificate verify failed: self signed certificate (_ssl.c:1124)\n",
      "\n",
      "During handling of the above exception, another exception occurred:\n",
      "\n",
      "Traceback (most recent call last):\n",
      "  File \"/srv/conda/envs/notebook/lib/python3.8/asyncio/events.py\", line 81, in _run\n",
      "    self._context.run(self._callback, *self._args)\n",
      "  File \"/srv/conda/envs/notebook/lib/python3.8/site-packages/tornado/platform/asyncio.py\", line 189, in _handle_events\n",
      "    handler_func(fileobj, events)\n",
      "  File \"/srv/conda/envs/notebook/lib/python3.8/site-packages/tornado/iostream.py\", line 696, in _handle_events\n",
      "    self._handle_read()\n",
      "  File \"/srv/conda/envs/notebook/lib/python3.8/site-packages/tornado/iostream.py\", line 1478, in _handle_read\n",
      "    self._do_ssl_handshake()\n",
      "  File \"/srv/conda/envs/notebook/lib/python3.8/site-packages/tornado/iostream.py\", line 1409, in _do_ssl_handshake\n",
      "    return self.close(exc_info=err)\n",
      "  File \"/srv/conda/envs/notebook/lib/python3.8/site-packages/tornado/iostream.py\", line 611, in close\n",
      "    self._signal_closed()\n",
      "  File \"/srv/conda/envs/notebook/lib/python3.8/site-packages/tornado/iostream.py\", line 641, in _signal_closed\n",
      "    self._ssl_connect_future.exception()\n",
      "asyncio.exceptions.CancelledError\n"
     ]
    }
   ],
   "source": [
    "if gateway.list_clusters():\n",
    "    cluster_name = gateway.list_clusters()[0].name\n",
    "    cluster = gateway.connect(cluster_name)\n",
    "    print(f\"\\nConnecting to pre-existing cluster with {len(cluster.scheduler_info['workers'])} workers.\")\n",
    "else:\n",
    "    cluster = gateway.new_cluster() \n",
    "    cluster.adapt(minimum=4, maximum=12)\n",
    "    print(\"\\nStarting up and connecting to new cluster.\")\n",
    "\n",
    "cluster\n",
    "# cluster.scheduler_info"
   ]
  },
  {
   "cell_type": "code",
   "execution_count": 6,
   "metadata": {},
   "outputs": [
    {
     "data": {
      "text/html": [
       "<table style=\"border: 2px solid white;\">\n",
       "<tr>\n",
       "<td style=\"vertical-align: top; border: 0px solid white\">\n",
       "<h3 style=\"text-align: left;\">Client</h3>\n",
       "<ul style=\"text-align: left; list-style: none; margin: 0; padding: 0;\">\n",
       "  <li><b>Scheduler: </b>gateway://traefik-gcp-uscentral1b-prod-dask-gateway.prod:80/prod.5473d5900ff842adbf557ac3f76b22b0</li>\n",
       "  <li><b>Dashboard: </b><a href='/services/dask-gateway/clusters/prod.5473d5900ff842adbf557ac3f76b22b0/status' target='_blank'>/services/dask-gateway/clusters/prod.5473d5900ff842adbf557ac3f76b22b0/status</a></li>\n",
       "</ul>\n",
       "</td>\n",
       "<td style=\"vertical-align: top; border: 0px solid white\">\n",
       "<h3 style=\"text-align: left;\">Cluster</h3>\n",
       "<ul style=\"text-align: left; list-style:none; margin: 0; padding: 0;\">\n",
       "  <li><b>Workers: </b>0</li>\n",
       "  <li><b>Cores: </b>0</li>\n",
       "  <li><b>Memory: </b>0 B</li>\n",
       "</ul>\n",
       "</td>\n",
       "</tr>\n",
       "</table>"
      ],
      "text/plain": [
       "<Client: 'tls://10.36.10.75:8786' processes=0 threads=0, memory=0 B>"
      ]
     },
     "execution_count": 6,
     "metadata": {},
     "output_type": "execute_result"
    }
   ],
   "source": [
    "client = cluster.get_client()\n",
    "client"
   ]
  },
  {
   "cell_type": "markdown",
   "metadata": {},
   "source": [
    "### setup runtime parameters"
   ]
  },
  {
   "cell_type": "code",
   "execution_count": 6,
   "metadata": {},
   "outputs": [],
   "source": [
    "gcsdir = 'gs://ldeo-glaciology'\n",
    "ampsdir = 'AMPS'\n",
    "amps_ver = 'WRF_24'\n",
    "domain = 'domain_02'\n",
    "filepattern = 'wrfout_d02_20191231*'\n"
   ]
  },
  {
   "cell_type": "code",
   "execution_count": 7,
   "metadata": {},
   "outputs": [
    {
     "name": "stdout",
     "output_type": "stream",
     "text": [
      "gs://ldeo-glaciology/AMPS/WRF_24/domain_02/wrfout_d02_20191231*\n"
     ]
    }
   ],
   "source": [
    "# pattern = 'gs://ldeo-glaciology/AMPS/WRF_24/domain_03/wrf-20161225*'\n",
    "pattern = os.path.join(gcsdir, ampsdir, amps_ver, domain, filepattern)\n",
    "print(pattern)"
   ]
  },
  {
   "cell_type": "code",
   "execution_count": null,
   "metadata": {},
   "outputs": [],
   "source": []
  },
  {
   "cell_type": "markdown",
   "metadata": {},
   "source": [
    "### list the netcdf files"
   ]
  },
  {
   "cell_type": "code",
   "execution_count": 8,
   "metadata": {},
   "outputs": [],
   "source": [
    "fs = gcsfs.GCSFileSystem(project='ldeo-glaciology', mode='ab', cache_timeout = 0)"
   ]
  },
  {
   "cell_type": "code",
   "execution_count": 9,
   "metadata": {},
   "outputs": [
    {
     "name": "stdout",
     "output_type": "stream",
     "text": [
      "Total of 8 wrf files.\n",
      "\n",
      "ldeo-glaciology/AMPS/WRF_24/domain_02/wrfout_d02_2019123100_f003.nc\n"
     ]
    }
   ],
   "source": [
    "NCs = fs.glob(pattern)\n",
    "print(f\"Total of {len(NCs)} wrf files.\\n\")\n",
    "print(NCs[0])"
   ]
  },
  {
   "cell_type": "code",
   "execution_count": 10,
   "metadata": {},
   "outputs": [
    {
     "name": "stdout",
     "output_type": "stream",
     "text": [
      "['https://storage.googleapis.com/ldeo-glaciology/AMPS/WRF_24/domain_02/wrfout_d02_2019123100_f003.nc#mode=bytes', 'https://storage.googleapis.com/ldeo-glaciology/AMPS/WRF_24/domain_02/wrfout_d02_2019123100_f006.nc#mode=bytes', 'https://storage.googleapis.com/ldeo-glaciology/AMPS/WRF_24/domain_02/wrfout_d02_2019123100_f009.nc#mode=bytes', 'https://storage.googleapis.com/ldeo-glaciology/AMPS/WRF_24/domain_02/wrfout_d02_2019123100_f012.nc#mode=bytes', 'https://storage.googleapis.com/ldeo-glaciology/AMPS/WRF_24/domain_02/wrfout_d02_2019123112_f003.nc#mode=bytes', 'https://storage.googleapis.com/ldeo-glaciology/AMPS/WRF_24/domain_02/wrfout_d02_2019123112_f006.nc#mode=bytes', 'https://storage.googleapis.com/ldeo-glaciology/AMPS/WRF_24/domain_02/wrfout_d02_2019123112_f009.nc#mode=bytes', 'https://storage.googleapis.com/ldeo-glaciology/AMPS/WRF_24/domain_02/wrfout_d02_2019123112_f012.nc#mode=bytes']\n"
     ]
    }
   ],
   "source": [
    "NCs_urls = ['https://storage.googleapis.com/' + x + '#mode=bytes' for x in NCs]\n",
    "print(NCs_urls)"
   ]
  },
  {
   "cell_type": "code",
   "execution_count": null,
   "metadata": {},
   "outputs": [],
   "source": []
  },
  {
   "cell_type": "markdown",
   "metadata": {},
   "source": [
    "## Read in netCDF "
   ]
  },
  {
   "cell_type": "markdown",
   "metadata": {},
   "source": [
    "test using xarray AND wrf-python\n",
    "\n",
    "https://wrf-python.readthedocs.io/en/latest/faq.html#can-i-use-xarray-dataset-as-an-input-to-the-wrf-python-functions\n"
   ]
  },
  {
   "cell_type": "code",
   "execution_count": 28,
   "metadata": {},
   "outputs": [
    {
     "name": "stdout",
     "output_type": "stream",
     "text": [
      "gs://ldeo-glaciology/AMPS/WRF_24/domain_02/wrfout_d02_2019123100_f003.nc#mode=bytes\n"
     ]
    },
    {
     "name": "stderr",
     "output_type": "stream",
     "text": [
      "100%|██████████| 7/7 [00:06<00:00,  1.05it/s]\n"
     ]
    }
   ],
   "source": [
    "NCs_urls = ['gs://' + x + '#mode=bytes' for x in NCs]\n",
    "print(NCs_urls[0])\n",
    "\n",
    "\n",
    "openfile = fs.open(NCs_urls[0], mode='rb') \n",
    "ds = xr.open_dataset(openfile, engine='h5netcdf',chunks={'south_north': -1, \n",
    "                                                               'west_east': -1,\n",
    "                                                               'Time': -1})\n",
    "for i in tqdm(range(1, 8)):\n",
    "    openfile = fs.open(NCs_urls[i], mode='rb') \n",
    "    temp = xr.open_dataset(openfile, engine='h5netcdf',chunks={'south_north': -1, \n",
    "                                                               'west_east': -1,\n",
    "                                                               'Time': -1})\n",
    "    ds = xr.concat([ds,temp],'Time')\n",
    "\n"
   ]
  },
  {
   "cell_type": "code",
   "execution_count": 21,
   "metadata": {},
   "outputs": [],
   "source": [
    "# ds = ds.chunk({'Time': 1})"
   ]
  },
  {
   "cell_type": "code",
   "execution_count": null,
   "metadata": {},
   "outputs": [],
   "source": []
  },
  {
   "cell_type": "code",
   "execution_count": null,
   "metadata": {},
   "outputs": [],
   "source": [
    "ds._file_obj."
   ]
  },
  {
   "cell_type": "code",
   "execution_count": null,
   "metadata": {},
   "outputs": [],
   "source": [
    "objs = [file_obj_.ds for file_obj_ in ds._file_obj.file_objs]"
   ]
  },
  {
   "cell_type": "code",
   "execution_count": null,
   "metadata": {},
   "outputs": [],
   "source": [
    "wrf.getvar(objs, varname, timeidx=0)"
   ]
  },
  {
   "cell_type": "code",
   "execution_count": null,
   "metadata": {},
   "outputs": [],
   "source": [
    "slp = wrf.getvar(ds._file_obj.ds, \"slp\")"
   ]
  },
  {
   "cell_type": "markdown",
   "metadata": {},
   "source": [
    "## wrf-python"
   ]
  },
  {
   "cell_type": "markdown",
   "metadata": {},
   "source": [
    "### use raw wrf-python functions to do diagnostics (hopefully using Dask Delayed...)"
   ]
  },
  {
   "cell_type": "code",
   "execution_count": 16,
   "metadata": {},
   "outputs": [],
   "source": [
    "nx = ds.dims['west_east']\n",
    "ny = ds.dims['south_north']\n",
    "dt, dx, dy = ds.DT, ds.DX, ds.DY\n",
    "cen_lat, cen_lon = ds.CEN_LAT, ds.CEN_LON\n",
    "truelat1, truelat2, STAND_LON = ds.TRUELAT1, ds.TRUELAT2, ds.STAND_LON\n",
    "pole_lat, pole_lon = ds.POLE_LAT, ds.POLE_LON"
   ]
  },
  {
   "cell_type": "code",
   "execution_count": 29,
   "metadata": {},
   "outputs": [
    {
     "name": "stderr",
     "output_type": "stream",
     "text": [
      "distributed.client - ERROR - Failed to reconnect to scheduler after 10.00 seconds, closing client\n",
      "_GatheringFuture exception was never retrieved\n",
      "future: <_GatheringFuture finished exception=CancelledError()>\n",
      "asyncio.exceptions.CancelledError\n"
     ]
    }
   ],
   "source": [
    "cone = 1 # ???\n",
    "uv   = wrf.uvmet(ds.U10, ds.V10, \n",
    "                 ds.XLONG.isel(Time=1), ds.XLAT.isel(Time=1), \n",
    "                 cen_lon, cone, meta=True, units='m s-1')"
   ]
  },
  {
   "cell_type": "code",
   "execution_count": 17,
   "metadata": {},
   "outputs": [
    {
     "data": {
      "text/html": [
       "<div><svg style=\"position: absolute; width: 0; height: 0; overflow: hidden\">\n",
       "<defs>\n",
       "<symbol id=\"icon-database\" viewBox=\"0 0 32 32\">\n",
       "<path d=\"M16 0c-8.837 0-16 2.239-16 5v4c0 2.761 7.163 5 16 5s16-2.239 16-5v-4c0-2.761-7.163-5-16-5z\"></path>\n",
       "<path d=\"M16 17c-8.837 0-16-2.239-16-5v6c0 2.761 7.163 5 16 5s16-2.239 16-5v-6c0 2.761-7.163 5-16 5z\"></path>\n",
       "<path d=\"M16 26c-8.837 0-16-2.239-16-5v6c0 2.761 7.163 5 16 5s16-2.239 16-5v-6c0 2.761-7.163 5-16 5z\"></path>\n",
       "</symbol>\n",
       "<symbol id=\"icon-file-text2\" viewBox=\"0 0 32 32\">\n",
       "<path d=\"M28.681 7.159c-0.694-0.947-1.662-2.053-2.724-3.116s-2.169-2.030-3.116-2.724c-1.612-1.182-2.393-1.319-2.841-1.319h-15.5c-1.378 0-2.5 1.121-2.5 2.5v27c0 1.378 1.122 2.5 2.5 2.5h23c1.378 0 2.5-1.122 2.5-2.5v-19.5c0-0.448-0.137-1.23-1.319-2.841zM24.543 5.457c0.959 0.959 1.712 1.825 2.268 2.543h-4.811v-4.811c0.718 0.556 1.584 1.309 2.543 2.268zM28 29.5c0 0.271-0.229 0.5-0.5 0.5h-23c-0.271 0-0.5-0.229-0.5-0.5v-27c0-0.271 0.229-0.5 0.5-0.5 0 0 15.499-0 15.5 0v7c0 0.552 0.448 1 1 1h7v19.5z\"></path>\n",
       "<path d=\"M23 26h-14c-0.552 0-1-0.448-1-1s0.448-1 1-1h14c0.552 0 1 0.448 1 1s-0.448 1-1 1z\"></path>\n",
       "<path d=\"M23 22h-14c-0.552 0-1-0.448-1-1s0.448-1 1-1h14c0.552 0 1 0.448 1 1s-0.448 1-1 1z\"></path>\n",
       "<path d=\"M23 18h-14c-0.552 0-1-0.448-1-1s0.448-1 1-1h14c0.552 0 1 0.448 1 1s-0.448 1-1 1z\"></path>\n",
       "</symbol>\n",
       "</defs>\n",
       "</svg>\n",
       "<style>/* CSS stylesheet for displaying xarray objects in jupyterlab.\n",
       " *\n",
       " */\n",
       "\n",
       ":root {\n",
       "  --xr-font-color0: var(--jp-content-font-color0, rgba(0, 0, 0, 1));\n",
       "  --xr-font-color2: var(--jp-content-font-color2, rgba(0, 0, 0, 0.54));\n",
       "  --xr-font-color3: var(--jp-content-font-color3, rgba(0, 0, 0, 0.38));\n",
       "  --xr-border-color: var(--jp-border-color2, #e0e0e0);\n",
       "  --xr-disabled-color: var(--jp-layout-color3, #bdbdbd);\n",
       "  --xr-background-color: var(--jp-layout-color0, white);\n",
       "  --xr-background-color-row-even: var(--jp-layout-color1, white);\n",
       "  --xr-background-color-row-odd: var(--jp-layout-color2, #eeeeee);\n",
       "}\n",
       "\n",
       "html[theme=dark],\n",
       "body.vscode-dark {\n",
       "  --xr-font-color0: rgba(255, 255, 255, 1);\n",
       "  --xr-font-color2: rgba(255, 255, 255, 0.54);\n",
       "  --xr-font-color3: rgba(255, 255, 255, 0.38);\n",
       "  --xr-border-color: #1F1F1F;\n",
       "  --xr-disabled-color: #515151;\n",
       "  --xr-background-color: #111111;\n",
       "  --xr-background-color-row-even: #111111;\n",
       "  --xr-background-color-row-odd: #313131;\n",
       "}\n",
       "\n",
       ".xr-wrap {\n",
       "  display: block;\n",
       "  min-width: 300px;\n",
       "  max-width: 700px;\n",
       "}\n",
       "\n",
       ".xr-text-repr-fallback {\n",
       "  /* fallback to plain text repr when CSS is not injected (untrusted notebook) */\n",
       "  display: none;\n",
       "}\n",
       "\n",
       ".xr-header {\n",
       "  padding-top: 6px;\n",
       "  padding-bottom: 6px;\n",
       "  margin-bottom: 4px;\n",
       "  border-bottom: solid 1px var(--xr-border-color);\n",
       "}\n",
       "\n",
       ".xr-header > div,\n",
       ".xr-header > ul {\n",
       "  display: inline;\n",
       "  margin-top: 0;\n",
       "  margin-bottom: 0;\n",
       "}\n",
       "\n",
       ".xr-obj-type,\n",
       ".xr-array-name {\n",
       "  margin-left: 2px;\n",
       "  margin-right: 10px;\n",
       "}\n",
       "\n",
       ".xr-obj-type {\n",
       "  color: var(--xr-font-color2);\n",
       "}\n",
       "\n",
       ".xr-sections {\n",
       "  padding-left: 0 !important;\n",
       "  display: grid;\n",
       "  grid-template-columns: 150px auto auto 1fr 20px 20px;\n",
       "}\n",
       "\n",
       ".xr-section-item {\n",
       "  display: contents;\n",
       "}\n",
       "\n",
       ".xr-section-item input {\n",
       "  display: none;\n",
       "}\n",
       "\n",
       ".xr-section-item input + label {\n",
       "  color: var(--xr-disabled-color);\n",
       "}\n",
       "\n",
       ".xr-section-item input:enabled + label {\n",
       "  cursor: pointer;\n",
       "  color: var(--xr-font-color2);\n",
       "}\n",
       "\n",
       ".xr-section-item input:enabled + label:hover {\n",
       "  color: var(--xr-font-color0);\n",
       "}\n",
       "\n",
       ".xr-section-summary {\n",
       "  grid-column: 1;\n",
       "  color: var(--xr-font-color2);\n",
       "  font-weight: 500;\n",
       "}\n",
       "\n",
       ".xr-section-summary > span {\n",
       "  display: inline-block;\n",
       "  padding-left: 0.5em;\n",
       "}\n",
       "\n",
       ".xr-section-summary-in:disabled + label {\n",
       "  color: var(--xr-font-color2);\n",
       "}\n",
       "\n",
       ".xr-section-summary-in + label:before {\n",
       "  display: inline-block;\n",
       "  content: '►';\n",
       "  font-size: 11px;\n",
       "  width: 15px;\n",
       "  text-align: center;\n",
       "}\n",
       "\n",
       ".xr-section-summary-in:disabled + label:before {\n",
       "  color: var(--xr-disabled-color);\n",
       "}\n",
       "\n",
       ".xr-section-summary-in:checked + label:before {\n",
       "  content: '▼';\n",
       "}\n",
       "\n",
       ".xr-section-summary-in:checked + label > span {\n",
       "  display: none;\n",
       "}\n",
       "\n",
       ".xr-section-summary,\n",
       ".xr-section-inline-details {\n",
       "  padding-top: 4px;\n",
       "  padding-bottom: 4px;\n",
       "}\n",
       "\n",
       ".xr-section-inline-details {\n",
       "  grid-column: 2 / -1;\n",
       "}\n",
       "\n",
       ".xr-section-details {\n",
       "  display: none;\n",
       "  grid-column: 1 / -1;\n",
       "  margin-bottom: 5px;\n",
       "}\n",
       "\n",
       ".xr-section-summary-in:checked ~ .xr-section-details {\n",
       "  display: contents;\n",
       "}\n",
       "\n",
       ".xr-array-wrap {\n",
       "  grid-column: 1 / -1;\n",
       "  display: grid;\n",
       "  grid-template-columns: 20px auto;\n",
       "}\n",
       "\n",
       ".xr-array-wrap > label {\n",
       "  grid-column: 1;\n",
       "  vertical-align: top;\n",
       "}\n",
       "\n",
       ".xr-preview {\n",
       "  color: var(--xr-font-color3);\n",
       "}\n",
       "\n",
       ".xr-array-preview,\n",
       ".xr-array-data {\n",
       "  padding: 0 5px !important;\n",
       "  grid-column: 2;\n",
       "}\n",
       "\n",
       ".xr-array-data,\n",
       ".xr-array-in:checked ~ .xr-array-preview {\n",
       "  display: none;\n",
       "}\n",
       "\n",
       ".xr-array-in:checked ~ .xr-array-data,\n",
       ".xr-array-preview {\n",
       "  display: inline-block;\n",
       "}\n",
       "\n",
       ".xr-dim-list {\n",
       "  display: inline-block !important;\n",
       "  list-style: none;\n",
       "  padding: 0 !important;\n",
       "  margin: 0;\n",
       "}\n",
       "\n",
       ".xr-dim-list li {\n",
       "  display: inline-block;\n",
       "  padding: 0;\n",
       "  margin: 0;\n",
       "}\n",
       "\n",
       ".xr-dim-list:before {\n",
       "  content: '(';\n",
       "}\n",
       "\n",
       ".xr-dim-list:after {\n",
       "  content: ')';\n",
       "}\n",
       "\n",
       ".xr-dim-list li:not(:last-child):after {\n",
       "  content: ',';\n",
       "  padding-right: 5px;\n",
       "}\n",
       "\n",
       ".xr-has-index {\n",
       "  font-weight: bold;\n",
       "}\n",
       "\n",
       ".xr-var-list,\n",
       ".xr-var-item {\n",
       "  display: contents;\n",
       "}\n",
       "\n",
       ".xr-var-item > div,\n",
       ".xr-var-item label,\n",
       ".xr-var-item > .xr-var-name span {\n",
       "  background-color: var(--xr-background-color-row-even);\n",
       "  margin-bottom: 0;\n",
       "}\n",
       "\n",
       ".xr-var-item > .xr-var-name:hover span {\n",
       "  padding-right: 5px;\n",
       "}\n",
       "\n",
       ".xr-var-list > li:nth-child(odd) > div,\n",
       ".xr-var-list > li:nth-child(odd) > label,\n",
       ".xr-var-list > li:nth-child(odd) > .xr-var-name span {\n",
       "  background-color: var(--xr-background-color-row-odd);\n",
       "}\n",
       "\n",
       ".xr-var-name {\n",
       "  grid-column: 1;\n",
       "}\n",
       "\n",
       ".xr-var-dims {\n",
       "  grid-column: 2;\n",
       "}\n",
       "\n",
       ".xr-var-dtype {\n",
       "  grid-column: 3;\n",
       "  text-align: right;\n",
       "  color: var(--xr-font-color2);\n",
       "}\n",
       "\n",
       ".xr-var-preview {\n",
       "  grid-column: 4;\n",
       "}\n",
       "\n",
       ".xr-var-name,\n",
       ".xr-var-dims,\n",
       ".xr-var-dtype,\n",
       ".xr-preview,\n",
       ".xr-attrs dt {\n",
       "  white-space: nowrap;\n",
       "  overflow: hidden;\n",
       "  text-overflow: ellipsis;\n",
       "  padding-right: 10px;\n",
       "}\n",
       "\n",
       ".xr-var-name:hover,\n",
       ".xr-var-dims:hover,\n",
       ".xr-var-dtype:hover,\n",
       ".xr-attrs dt:hover {\n",
       "  overflow: visible;\n",
       "  width: auto;\n",
       "  z-index: 1;\n",
       "}\n",
       "\n",
       ".xr-var-attrs,\n",
       ".xr-var-data {\n",
       "  display: none;\n",
       "  background-color: var(--xr-background-color) !important;\n",
       "  padding-bottom: 5px !important;\n",
       "}\n",
       "\n",
       ".xr-var-attrs-in:checked ~ .xr-var-attrs,\n",
       ".xr-var-data-in:checked ~ .xr-var-data {\n",
       "  display: block;\n",
       "}\n",
       "\n",
       ".xr-var-data > table {\n",
       "  float: right;\n",
       "}\n",
       "\n",
       ".xr-var-name span,\n",
       ".xr-var-data,\n",
       ".xr-attrs {\n",
       "  padding-left: 25px !important;\n",
       "}\n",
       "\n",
       ".xr-attrs,\n",
       ".xr-var-attrs,\n",
       ".xr-var-data {\n",
       "  grid-column: 1 / -1;\n",
       "}\n",
       "\n",
       "dl.xr-attrs {\n",
       "  padding: 0;\n",
       "  margin: 0;\n",
       "  display: grid;\n",
       "  grid-template-columns: 125px auto;\n",
       "}\n",
       "\n",
       ".xr-attrs dt,\n",
       ".xr-attrs dd {\n",
       "  padding: 0;\n",
       "  margin: 0;\n",
       "  float: left;\n",
       "  padding-right: 10px;\n",
       "  width: auto;\n",
       "}\n",
       "\n",
       ".xr-attrs dt {\n",
       "  font-weight: normal;\n",
       "  grid-column: 1;\n",
       "}\n",
       "\n",
       ".xr-attrs dt:hover span {\n",
       "  display: inline-block;\n",
       "  background: var(--xr-background-color);\n",
       "  padding-right: 10px;\n",
       "}\n",
       "\n",
       ".xr-attrs dd {\n",
       "  grid-column: 2;\n",
       "  white-space: pre-wrap;\n",
       "  word-break: break-all;\n",
       "}\n",
       "\n",
       ".xr-icon-database,\n",
       ".xr-icon-file-text2 {\n",
       "  display: inline-block;\n",
       "  vertical-align: middle;\n",
       "  width: 1em;\n",
       "  height: 1.5em !important;\n",
       "  stroke-width: 0;\n",
       "  stroke: currentColor;\n",
       "  fill: currentColor;\n",
       "}\n",
       "</style><pre class='xr-text-repr-fallback'>&lt;xarray.DataArray &#x27;uvmet&#x27; (u_v: 2, Time: 8, south_north: 786, west_east: 834)&gt;\n",
       "array([[[[-1.17902048e-01, -1.29071772e-01, -1.26908094e-01, ...,\n",
       "           3.02273303e-01,  3.63769323e-01,  4.94509220e-01],\n",
       "         [-9.62983817e-02, -8.90485793e-02, -8.12111199e-02, ...,\n",
       "           4.74086016e-01,  6.01928771e-01,  7.72971272e-01],\n",
       "         [-7.34016821e-02, -3.11118122e-02, -7.16429530e-03, ...,\n",
       "           6.91603482e-01,  8.93858254e-01,  1.07994342e+00],\n",
       "         ...,\n",
       "         [-4.13692856e+00, -4.07623053e+00, -4.02439642e+00, ...,\n",
       "           7.51450729e+00,  7.45834875e+00,  7.44684601e+00],\n",
       "         [-4.22153568e+00, -4.18166971e+00, -4.11433077e+00, ...,\n",
       "           7.69830656e+00,  7.65977907e+00,  7.64349413e+00],\n",
       "         [-4.27691317e+00, -4.23520756e+00, -4.18657446e+00, ...,\n",
       "           7.90241957e+00,  7.86289597e+00,  7.82877827e+00]],\n",
       "\n",
       "        [[-2.05131626e+00, -2.00378180e+00, -1.99072206e+00, ...,\n",
       "           3.04277015e+00,  3.05266666e+00,  3.02241611e+00],\n",
       "         [-1.95844960e+00, -1.90599275e+00, -1.90325761e+00, ...,\n",
       "           3.00414252e+00,  3.03479314e+00,  3.08718181e+00],\n",
       "         [-1.89123082e+00, -1.82008088e+00, -1.81646633e+00, ...,\n",
       "           3.04988694e+00,  3.07800293e+00,  3.19781756e+00],\n",
       "...\n",
       "          -1.43016899e+00, -1.39810812e+00, -1.37702525e+00],\n",
       "         [-9.51283550e+00, -9.60309887e+00, -9.69522858e+00, ...,\n",
       "          -1.47083783e+00, -1.42704380e+00, -1.39381874e+00],\n",
       "         [-9.60644722e+00, -9.72441292e+00, -9.80776405e+00, ...,\n",
       "          -1.50060940e+00, -1.46808839e+00, -1.41976523e+00]],\n",
       "\n",
       "        [[-4.30219793e+00, -4.32233238e+00, -4.36071682e+00, ...,\n",
       "           8.11095428e+00,  8.14750576e+00,  8.19003963e+00],\n",
       "         [-4.33524418e+00, -4.32566118e+00, -4.35848284e+00, ...,\n",
       "           8.00306416e+00,  8.04930496e+00,  8.11359501e+00],\n",
       "         [-4.35148621e+00, -4.35094261e+00, -4.38984156e+00, ...,\n",
       "           7.90820885e+00,  7.95193624e+00,  8.02473068e+00],\n",
       "         ...,\n",
       "         [-1.11369743e+01, -1.10009136e+01, -1.08402071e+01, ...,\n",
       "           3.83987427e-01,  3.98094416e-01,  4.19225544e-01],\n",
       "         [-1.10452003e+01, -1.09039879e+01, -1.06951942e+01, ...,\n",
       "           3.98455769e-01,  3.89869303e-01,  3.92606646e-01],\n",
       "         [-1.09909773e+01, -1.08267183e+01, -1.05859604e+01, ...,\n",
       "           3.59676421e-01,  3.46100777e-01,  3.37106556e-01]]]],\n",
       "      dtype=float32)\n",
       "Coordinates:\n",
       "  * u_v      (u_v) &lt;U1 &#x27;u&#x27; &#x27;v&#x27;\n",
       "Dimensions without coordinates: Time, south_north, west_east\n",
       "Attributes:\n",
       "    units:        m s-1\n",
       "    description:  earth rotated u,v</pre><div class='xr-wrap' hidden><div class='xr-header'><div class='xr-obj-type'>xarray.DataArray</div><div class='xr-array-name'>'uvmet'</div><ul class='xr-dim-list'><li><span class='xr-has-index'>u_v</span>: 2</li><li><span>Time</span>: 8</li><li><span>south_north</span>: 786</li><li><span>west_east</span>: 834</li></ul></div><ul class='xr-sections'><li class='xr-section-item'><div class='xr-array-wrap'><input id='section-c4720c65-e2e3-4c06-8603-a41d19ad6887' class='xr-array-in' type='checkbox' checked><label for='section-c4720c65-e2e3-4c06-8603-a41d19ad6887' title='Show/hide data repr'><svg class='icon xr-icon-database'><use xlink:href='#icon-database'></use></svg></label><div class='xr-array-preview xr-preview'><span>-0.1179 -0.1291 -0.1269 -0.07735 ... 0.349 0.3597 0.3461 0.3371</span></div><div class='xr-array-data'><pre>array([[[[-1.17902048e-01, -1.29071772e-01, -1.26908094e-01, ...,\n",
       "           3.02273303e-01,  3.63769323e-01,  4.94509220e-01],\n",
       "         [-9.62983817e-02, -8.90485793e-02, -8.12111199e-02, ...,\n",
       "           4.74086016e-01,  6.01928771e-01,  7.72971272e-01],\n",
       "         [-7.34016821e-02, -3.11118122e-02, -7.16429530e-03, ...,\n",
       "           6.91603482e-01,  8.93858254e-01,  1.07994342e+00],\n",
       "         ...,\n",
       "         [-4.13692856e+00, -4.07623053e+00, -4.02439642e+00, ...,\n",
       "           7.51450729e+00,  7.45834875e+00,  7.44684601e+00],\n",
       "         [-4.22153568e+00, -4.18166971e+00, -4.11433077e+00, ...,\n",
       "           7.69830656e+00,  7.65977907e+00,  7.64349413e+00],\n",
       "         [-4.27691317e+00, -4.23520756e+00, -4.18657446e+00, ...,\n",
       "           7.90241957e+00,  7.86289597e+00,  7.82877827e+00]],\n",
       "\n",
       "        [[-2.05131626e+00, -2.00378180e+00, -1.99072206e+00, ...,\n",
       "           3.04277015e+00,  3.05266666e+00,  3.02241611e+00],\n",
       "         [-1.95844960e+00, -1.90599275e+00, -1.90325761e+00, ...,\n",
       "           3.00414252e+00,  3.03479314e+00,  3.08718181e+00],\n",
       "         [-1.89123082e+00, -1.82008088e+00, -1.81646633e+00, ...,\n",
       "           3.04988694e+00,  3.07800293e+00,  3.19781756e+00],\n",
       "...\n",
       "          -1.43016899e+00, -1.39810812e+00, -1.37702525e+00],\n",
       "         [-9.51283550e+00, -9.60309887e+00, -9.69522858e+00, ...,\n",
       "          -1.47083783e+00, -1.42704380e+00, -1.39381874e+00],\n",
       "         [-9.60644722e+00, -9.72441292e+00, -9.80776405e+00, ...,\n",
       "          -1.50060940e+00, -1.46808839e+00, -1.41976523e+00]],\n",
       "\n",
       "        [[-4.30219793e+00, -4.32233238e+00, -4.36071682e+00, ...,\n",
       "           8.11095428e+00,  8.14750576e+00,  8.19003963e+00],\n",
       "         [-4.33524418e+00, -4.32566118e+00, -4.35848284e+00, ...,\n",
       "           8.00306416e+00,  8.04930496e+00,  8.11359501e+00],\n",
       "         [-4.35148621e+00, -4.35094261e+00, -4.38984156e+00, ...,\n",
       "           7.90820885e+00,  7.95193624e+00,  8.02473068e+00],\n",
       "         ...,\n",
       "         [-1.11369743e+01, -1.10009136e+01, -1.08402071e+01, ...,\n",
       "           3.83987427e-01,  3.98094416e-01,  4.19225544e-01],\n",
       "         [-1.10452003e+01, -1.09039879e+01, -1.06951942e+01, ...,\n",
       "           3.98455769e-01,  3.89869303e-01,  3.92606646e-01],\n",
       "         [-1.09909773e+01, -1.08267183e+01, -1.05859604e+01, ...,\n",
       "           3.59676421e-01,  3.46100777e-01,  3.37106556e-01]]]],\n",
       "      dtype=float32)</pre></div></div></li><li class='xr-section-item'><input id='section-bbe6a91a-1832-4097-9399-301a4ea05c9c' class='xr-section-summary-in' type='checkbox'  checked><label for='section-bbe6a91a-1832-4097-9399-301a4ea05c9c' class='xr-section-summary' >Coordinates: <span>(1)</span></label><div class='xr-section-inline-details'></div><div class='xr-section-details'><ul class='xr-var-list'><li class='xr-var-item'><div class='xr-var-name'><span class='xr-has-index'>u_v</span></div><div class='xr-var-dims'>(u_v)</div><div class='xr-var-dtype'>&lt;U1</div><div class='xr-var-preview xr-preview'>&#x27;u&#x27; &#x27;v&#x27;</div><input id='attrs-a69e8278-00f5-4a5e-8645-f97fb206483d' class='xr-var-attrs-in' type='checkbox' disabled><label for='attrs-a69e8278-00f5-4a5e-8645-f97fb206483d' title='Show/Hide attributes'><svg class='icon xr-icon-file-text2'><use xlink:href='#icon-file-text2'></use></svg></label><input id='data-e177341d-fb5e-4efd-b927-41e751f5e575' class='xr-var-data-in' type='checkbox'><label for='data-e177341d-fb5e-4efd-b927-41e751f5e575' title='Show/Hide data repr'><svg class='icon xr-icon-database'><use xlink:href='#icon-database'></use></svg></label><div class='xr-var-attrs'><dl class='xr-attrs'></dl></div><div class='xr-var-data'><pre>array([&#x27;u&#x27;, &#x27;v&#x27;], dtype=&#x27;&lt;U1&#x27;)</pre></div></li></ul></div></li><li class='xr-section-item'><input id='section-45566270-5983-40c9-b009-6c1f38df59ff' class='xr-section-summary-in' type='checkbox'  checked><label for='section-45566270-5983-40c9-b009-6c1f38df59ff' class='xr-section-summary' >Attributes: <span>(2)</span></label><div class='xr-section-inline-details'></div><div class='xr-section-details'><dl class='xr-attrs'><dt><span>units :</span></dt><dd>m s-1</dd><dt><span>description :</span></dt><dd>earth rotated u,v</dd></dl></div></li></ul></div></div>"
      ],
      "text/plain": [
       "<xarray.DataArray 'uvmet' (u_v: 2, Time: 8, south_north: 786, west_east: 834)>\n",
       "array([[[[-1.17902048e-01, -1.29071772e-01, -1.26908094e-01, ...,\n",
       "           3.02273303e-01,  3.63769323e-01,  4.94509220e-01],\n",
       "         [-9.62983817e-02, -8.90485793e-02, -8.12111199e-02, ...,\n",
       "           4.74086016e-01,  6.01928771e-01,  7.72971272e-01],\n",
       "         [-7.34016821e-02, -3.11118122e-02, -7.16429530e-03, ...,\n",
       "           6.91603482e-01,  8.93858254e-01,  1.07994342e+00],\n",
       "         ...,\n",
       "         [-4.13692856e+00, -4.07623053e+00, -4.02439642e+00, ...,\n",
       "           7.51450729e+00,  7.45834875e+00,  7.44684601e+00],\n",
       "         [-4.22153568e+00, -4.18166971e+00, -4.11433077e+00, ...,\n",
       "           7.69830656e+00,  7.65977907e+00,  7.64349413e+00],\n",
       "         [-4.27691317e+00, -4.23520756e+00, -4.18657446e+00, ...,\n",
       "           7.90241957e+00,  7.86289597e+00,  7.82877827e+00]],\n",
       "\n",
       "        [[-2.05131626e+00, -2.00378180e+00, -1.99072206e+00, ...,\n",
       "           3.04277015e+00,  3.05266666e+00,  3.02241611e+00],\n",
       "         [-1.95844960e+00, -1.90599275e+00, -1.90325761e+00, ...,\n",
       "           3.00414252e+00,  3.03479314e+00,  3.08718181e+00],\n",
       "         [-1.89123082e+00, -1.82008088e+00, -1.81646633e+00, ...,\n",
       "           3.04988694e+00,  3.07800293e+00,  3.19781756e+00],\n",
       "...\n",
       "          -1.43016899e+00, -1.39810812e+00, -1.37702525e+00],\n",
       "         [-9.51283550e+00, -9.60309887e+00, -9.69522858e+00, ...,\n",
       "          -1.47083783e+00, -1.42704380e+00, -1.39381874e+00],\n",
       "         [-9.60644722e+00, -9.72441292e+00, -9.80776405e+00, ...,\n",
       "          -1.50060940e+00, -1.46808839e+00, -1.41976523e+00]],\n",
       "\n",
       "        [[-4.30219793e+00, -4.32233238e+00, -4.36071682e+00, ...,\n",
       "           8.11095428e+00,  8.14750576e+00,  8.19003963e+00],\n",
       "         [-4.33524418e+00, -4.32566118e+00, -4.35848284e+00, ...,\n",
       "           8.00306416e+00,  8.04930496e+00,  8.11359501e+00],\n",
       "         [-4.35148621e+00, -4.35094261e+00, -4.38984156e+00, ...,\n",
       "           7.90820885e+00,  7.95193624e+00,  8.02473068e+00],\n",
       "         ...,\n",
       "         [-1.11369743e+01, -1.10009136e+01, -1.08402071e+01, ...,\n",
       "           3.83987427e-01,  3.98094416e-01,  4.19225544e-01],\n",
       "         [-1.10452003e+01, -1.09039879e+01, -1.06951942e+01, ...,\n",
       "           3.98455769e-01,  3.89869303e-01,  3.92606646e-01],\n",
       "         [-1.09909773e+01, -1.08267183e+01, -1.05859604e+01, ...,\n",
       "           3.59676421e-01,  3.46100777e-01,  3.37106556e-01]]]],\n",
       "      dtype=float32)\n",
       "Coordinates:\n",
       "  * u_v      (u_v) <U1 'u' 'v'\n",
       "Dimensions without coordinates: Time, south_north, west_east\n",
       "Attributes:\n",
       "    units:        m s-1\n",
       "    description:  earth rotated u,v"
      ]
     },
     "execution_count": 17,
     "metadata": {},
     "output_type": "execute_result"
    }
   ],
   "source": [
    "uv"
   ]
  },
  {
   "cell_type": "markdown",
   "metadata": {},
   "source": [
    "### use wrf-python `getvar` to read in diagnostic variables\n",
    "but they aren't dask, e.g. no distributed"
   ]
  },
  {
   "cell_type": "code",
   "execution_count": null,
   "metadata": {},
   "outputs": [],
   "source": [
    "nc = Dataset(NCs_urls[0])"
   ]
  },
  {
   "cell_type": "code",
   "execution_count": null,
   "metadata": {},
   "outputs": [],
   "source": [
    "t2 = wrf.getvar(nc, 'T2', timeidx=wrf.ALL_TIMES)\n",
    "# t2 = wrf.getvar(nc, 'T2', timeidx=2) # extract 3rd time instance (t=2) - slow....\n",
    "t2"
   ]
  },
  {
   "cell_type": "code",
   "execution_count": null,
   "metadata": {},
   "outputs": [],
   "source": [
    "plt.pcolor(wrf.to_np(t2))"
   ]
  },
  {
   "cell_type": "code",
   "execution_count": null,
   "metadata": {},
   "outputs": [],
   "source": [
    "import matplotlib\n",
    "from matplotlib.cm import get_cmap\n",
    "import matplotlib.pyplot as plt\n",
    "import cartopy.feature as cfe\n",
    "import cartopy.crs as crs\n",
    "\n",
    "# select one time instance if you have retrieved ALL_TIMES\n",
    "# t2 = t2.isel(Time=1)\n",
    "\n",
    "# Get the latitude and longitude points (use original data, rather than any processed data)\n",
    "lats, lons = wrf.latlon_coords(t2)\n",
    "\n",
    "# Get the cartopy mapping object (use original data, rather than any processed data)\n",
    "cart_proj = wrf.get_cartopy(t2)\n",
    "\n",
    "# Create a figure\n",
    "fig = plt.figure(figsize=(12,9))\n",
    "# Set the GeoAxes to the projection used by WRF\n",
    "ax = plt.axes(projection=cart_proj)\n",
    "\n",
    "# Add coastlines\n",
    "ax.coastlines('50m', linewidth=0.8)\n",
    "ax.add_feature(cfe.NaturalEarthFeature('physical', 'antarctic_ice_shelves_lines', \n",
    "                                       '50m', linewidth=1.0, edgecolor='k', facecolor='none') )\n",
    "\n",
    "# Plot contours\n",
    "plt.contourf(wrf.to_np(lons), wrf.to_np(lats), wrf.to_np(t2), 30, \n",
    "                transform=crs.PlateCarree(), cmap=get_cmap(\"Spectral\"))\n",
    "\n",
    "# Add a color bar\n",
    "cbar = plt.colorbar(ax=ax, shrink=.62)\n",
    "cbar.set_label(t2.units)\n",
    "\n",
    "# Set the map limits.  Not really necessary, but used for demonstration.\n",
    "ax.set_xlim(np.array(wrf.cartopy_xlim(t2))/2)\n",
    "ax.set_ylim(np.array(wrf.cartopy_ylim(t2))/2)\n",
    "\n",
    "# Add the gridlines\n",
    "ax.gridlines(color=\"black\", linestyle=\"dotted\")\n",
    "\n",
    "plt.title(t2.description+'\\n'+str(t2.Time.values))\n",
    "\n",
    "print('')"
   ]
  },
  {
   "cell_type": "code",
   "execution_count": null,
   "metadata": {},
   "outputs": [],
   "source": [
    "## THIS NEEDS cartopy 0.18 but can't install it for some reason...\n",
    "\n",
    "import shapely.geometry as sgeom\n",
    "import cartopy.crs as ccrs\n",
    "\n",
    "\n",
    "box = sgeom.box(minx=35, maxx=175, miny=-80, maxy=-88.5)\n",
    "x0, y0, x1, y1 = box.bounds\n",
    "myproj = ccrs.SouthPolarStereo(central_longitude=180)\n",
    "# myproj = ccrs.Orthographic()\n",
    "\n",
    "plt.figure(figsize=(4, 5), facecolor='white', dpi=144)\n",
    "ax = plt.axes(projection=myproj)\n",
    "ax.set_extent([x0, x1, y0, y1], ccrs.PlateCarree())  \n",
    "ax.coastlines('50m')\n",
    "# ax.stock_img()\n",
    "\n",
    "# pcm1 = ax.pcolormesh(da.west_east, ds.south_north, da.mean(dim='Time'),\\\n",
    "#                     vmin=268, vmax=275,\\\n",
    "#                     transform=ccrs.PlateCarree())#, cmap=plt.get_cmap(\"BuPu\")\n",
    "## Alternative\n",
    "kwargs = dict(ax=ax,\n",
    "              x='west_east', y='south_north',\n",
    "              transform=ccrs.PlateCarree())#, vmin=270, vmax=275)\n",
    "pcm1 = t2.plot.contourf(levels=31, robust=True,  **kwargs)\n",
    "\n",
    "\n",
    "# # c = plt.colorbar(orientation='vertical', shrink=0.4, pad=0.10)\n",
    "# cb1 = plt.colorbar(pcm1, ax=ax, label=r'Surface Heat Flux $[W {m^{-2}}]$', \\\n",
    "#                    orientation='horizontal', extend='both', \\\n",
    "#                   shrink=0.9, pad=0.01)\n",
    "# ax.plot(ds.lon[si, sj], ds.lat[si, sj], 'ko', markersize=3, transform=ccrs.PlateCarree())\n",
    "# ax.plot(ds.lon[ai, aj], ds.lat[ai, aj], 'ko', markersize=3, transform=ccrs.PlateCarree())\n",
    "# # ax.plot(LON[ssj, ssi], LAT[ssj, ssi], 'ko', markersize=2, transform=ccrs.PlateCarree())\n",
    "\n",
    "ax.gridlines(color=\"black\", linestyle=\"dotted\")\n",
    "# plt.suptitle('LH')\n",
    "# plt.tight_layout()\n",
    "# plt.savefig('figs/mapplot_TNB_Fsfc_mean.png')\n",
    "plt.show()"
   ]
  },
  {
   "cell_type": "code",
   "execution_count": null,
   "metadata": {},
   "outputs": [],
   "source": [
    "# Use SLP for the example variable\n",
    "slp = wrf.getvar(nc, \"slp\")\n",
    "\n",
    "# Get the cartopy mapping object\n",
    "cart_proj = wrf.get_cartopy(slp)\n",
    "\n",
    "print (cart_proj)\n",
    "\n",
    "# Get the latitude and longitude coordinate.  This is usually needed for plotting.\n",
    "lats, lons = wrf.latlon_coords(slp)\n",
    "\n",
    "# Get the geobounds for the SLP variable\n",
    "bounds = wrf.geo_bounds(slp)\n",
    "\n",
    "print (bounds)\n",
    "\n",
    "# Get the geographic boundaries for a subset of the domain\n",
    "slp_subset = slp[150:250, 150:250]\n",
    "slp_subset_bounds = wrf.geo_bounds(slp_subset)\n",
    "\n",
    "print (slp_subset_bounds)"
   ]
  },
  {
   "cell_type": "code",
   "execution_count": null,
   "metadata": {},
   "outputs": [],
   "source": []
  },
  {
   "cell_type": "code",
   "execution_count": null,
   "metadata": {},
   "outputs": [],
   "source": []
  },
  {
   "cell_type": "markdown",
   "metadata": {},
   "source": [
    "### wrf-python on multiple WRF files"
   ]
  },
  {
   "cell_type": "code",
   "execution_count": null,
   "metadata": {},
   "outputs": [],
   "source": [
    "# ncfile = nc.MFDataset(NCs_urls)\n",
    "\n",
    "# T2 = wrf.combine_files(nc, timeidx=\"ALL_TIMES\")#, method= \"join\", meta=\"False\")"
   ]
  },
  {
   "cell_type": "code",
   "execution_count": 16,
   "metadata": {},
   "outputs": [
    {
     "ename": "OSError",
     "evalue": "[Errno -36] NetCDF: Invalid argument: b'gs://ldeo-glaciology/AMPS/WRF_24/domain_02/wrfout_d02_2019123100_f003.nc#mode=bytes'",
     "output_type": "error",
     "traceback": [
      "\u001b[0;31m---------------------------------------------------------------------------\u001b[0m",
      "\u001b[0;31mOSError\u001b[0m                                   Traceback (most recent call last)",
      "\u001b[0;32m<ipython-input-16-6cfed3147f13>\u001b[0m in \u001b[0;36m<module>\u001b[0;34m\u001b[0m\n\u001b[1;32m      5\u001b[0m \u001b[0;31m#            Dataset(NCs_urls[3])]\u001b[0m\u001b[0;34m\u001b[0m\u001b[0;34m\u001b[0m\u001b[0;34m\u001b[0m\u001b[0m\n\u001b[1;32m      6\u001b[0m \u001b[0;34m\u001b[0m\u001b[0m\n\u001b[0;32m----> 7\u001b[0;31m \u001b[0mwrflist\u001b[0m \u001b[0;34m=\u001b[0m \u001b[0;34m[\u001b[0m\u001b[0mDataset\u001b[0m\u001b[0;34m(\u001b[0m\u001b[0mx\u001b[0m\u001b[0;34m)\u001b[0m \u001b[0;32mfor\u001b[0m \u001b[0mx\u001b[0m \u001b[0;32min\u001b[0m \u001b[0mNCs_urls\u001b[0m\u001b[0;34m]\u001b[0m\u001b[0;34m\u001b[0m\u001b[0;34m\u001b[0m\u001b[0m\n\u001b[0m",
      "\u001b[0;32m<ipython-input-16-6cfed3147f13>\u001b[0m in \u001b[0;36m<listcomp>\u001b[0;34m(.0)\u001b[0m\n\u001b[1;32m      5\u001b[0m \u001b[0;31m#            Dataset(NCs_urls[3])]\u001b[0m\u001b[0;34m\u001b[0m\u001b[0;34m\u001b[0m\u001b[0;34m\u001b[0m\u001b[0m\n\u001b[1;32m      6\u001b[0m \u001b[0;34m\u001b[0m\u001b[0m\n\u001b[0;32m----> 7\u001b[0;31m \u001b[0mwrflist\u001b[0m \u001b[0;34m=\u001b[0m \u001b[0;34m[\u001b[0m\u001b[0mDataset\u001b[0m\u001b[0;34m(\u001b[0m\u001b[0mx\u001b[0m\u001b[0;34m)\u001b[0m \u001b[0;32mfor\u001b[0m \u001b[0mx\u001b[0m \u001b[0;32min\u001b[0m \u001b[0mNCs_urls\u001b[0m\u001b[0;34m]\u001b[0m\u001b[0;34m\u001b[0m\u001b[0;34m\u001b[0m\u001b[0m\n\u001b[0m",
      "\u001b[0;32msrc/netCDF4/_netCDF4.pyx\u001b[0m in \u001b[0;36mnetCDF4._netCDF4.Dataset.__init__\u001b[0;34m()\u001b[0m\n",
      "\u001b[0;32msrc/netCDF4/_netCDF4.pyx\u001b[0m in \u001b[0;36mnetCDF4._netCDF4._ensure_nc_success\u001b[0;34m()\u001b[0m\n",
      "\u001b[0;31mOSError\u001b[0m: [Errno -36] NetCDF: Invalid argument: b'gs://ldeo-glaciology/AMPS/WRF_24/domain_02/wrfout_d02_2019123100_f003.nc#mode=bytes'"
     ]
    },
    {
     "name": "stderr",
     "output_type": "stream",
     "text": [
      "distributed.client - ERROR - Failed to reconnect to scheduler after 10.00 seconds, closing client\n",
      "_GatheringFuture exception was never retrieved\n",
      "future: <_GatheringFuture finished exception=CancelledError()>\n",
      "asyncio.exceptions.CancelledError\n",
      "Exception in callback None()\n",
      "handle: <Handle cancelled>\n",
      "Traceback (most recent call last):\n",
      "  File \"/srv/conda/envs/notebook/lib/python3.8/site-packages/tornado/iostream.py\", line 1391, in _do_ssl_handshake\n",
      "    self.socket.do_handshake()\n",
      "  File \"/srv/conda/envs/notebook/lib/python3.8/ssl.py\", line 1309, in do_handshake\n",
      "    self._sslobj.do_handshake()\n",
      "ssl.SSLCertVerificationError: [SSL: CERTIFICATE_VERIFY_FAILED] certificate verify failed: self signed certificate (_ssl.c:1124)\n",
      "\n",
      "During handling of the above exception, another exception occurred:\n",
      "\n",
      "Traceback (most recent call last):\n",
      "  File \"/srv/conda/envs/notebook/lib/python3.8/asyncio/events.py\", line 81, in _run\n",
      "    self._context.run(self._callback, *self._args)\n",
      "  File \"/srv/conda/envs/notebook/lib/python3.8/site-packages/tornado/platform/asyncio.py\", line 189, in _handle_events\n",
      "    handler_func(fileobj, events)\n",
      "  File \"/srv/conda/envs/notebook/lib/python3.8/site-packages/tornado/iostream.py\", line 696, in _handle_events\n",
      "    self._handle_read()\n",
      "  File \"/srv/conda/envs/notebook/lib/python3.8/site-packages/tornado/iostream.py\", line 1478, in _handle_read\n",
      "    self._do_ssl_handshake()\n",
      "  File \"/srv/conda/envs/notebook/lib/python3.8/site-packages/tornado/iostream.py\", line 1409, in _do_ssl_handshake\n",
      "    return self.close(exc_info=err)\n",
      "  File \"/srv/conda/envs/notebook/lib/python3.8/site-packages/tornado/iostream.py\", line 611, in close\n",
      "    self._signal_closed()\n",
      "  File \"/srv/conda/envs/notebook/lib/python3.8/site-packages/tornado/iostream.py\", line 641, in _signal_closed\n",
      "    self._ssl_connect_future.exception()\n",
      "asyncio.exceptions.CancelledError\n",
      "Exception in callback None()\n",
      "handle: <Handle cancelled>\n",
      "Traceback (most recent call last):\n",
      "  File \"/srv/conda/envs/notebook/lib/python3.8/site-packages/tornado/iostream.py\", line 1391, in _do_ssl_handshake\n",
      "    self.socket.do_handshake()\n",
      "  File \"/srv/conda/envs/notebook/lib/python3.8/ssl.py\", line 1309, in do_handshake\n",
      "    self._sslobj.do_handshake()\n",
      "ssl.SSLCertVerificationError: [SSL: CERTIFICATE_VERIFY_FAILED] certificate verify failed: self signed certificate (_ssl.c:1124)\n",
      "\n",
      "During handling of the above exception, another exception occurred:\n",
      "\n",
      "Traceback (most recent call last):\n",
      "  File \"/srv/conda/envs/notebook/lib/python3.8/asyncio/events.py\", line 81, in _run\n",
      "    self._context.run(self._callback, *self._args)\n",
      "  File \"/srv/conda/envs/notebook/lib/python3.8/site-packages/tornado/platform/asyncio.py\", line 189, in _handle_events\n",
      "    handler_func(fileobj, events)\n",
      "  File \"/srv/conda/envs/notebook/lib/python3.8/site-packages/tornado/iostream.py\", line 696, in _handle_events\n",
      "    self._handle_read()\n",
      "  File \"/srv/conda/envs/notebook/lib/python3.8/site-packages/tornado/iostream.py\", line 1478, in _handle_read\n",
      "    self._do_ssl_handshake()\n",
      "  File \"/srv/conda/envs/notebook/lib/python3.8/site-packages/tornado/iostream.py\", line 1409, in _do_ssl_handshake\n",
      "    return self.close(exc_info=err)\n",
      "  File \"/srv/conda/envs/notebook/lib/python3.8/site-packages/tornado/iostream.py\", line 611, in close\n",
      "    self._signal_closed()\n",
      "  File \"/srv/conda/envs/notebook/lib/python3.8/site-packages/tornado/iostream.py\", line 641, in _signal_closed\n",
      "    self._ssl_connect_future.exception()\n",
      "asyncio.exceptions.CancelledError\n"
     ]
    }
   ],
   "source": [
    "# # Creating a simple test list with three timesteps\n",
    "# wrflist = [Dataset(NCs_urls[0]),\n",
    "#            Dataset(NCs_urls[1]),\n",
    "#            Dataset(NCs_urls[2]),\n",
    "#            Dataset(NCs_urls[3])]\n",
    "\n",
    "wrflist = [Dataset(x) for x in NCs_urls]"
   ]
  },
  {
   "cell_type": "code",
   "execution_count": null,
   "metadata": {},
   "outputs": [],
   "source": [
    "# Extract the 'P' variable for all times\n",
    "T2_join = wrf.getvar(wrflist, \"T2\", timeidx=wrf.ALL_TIMES, method='cat')#, method=\"join\", squeeze=False)"
   ]
  },
  {
   "cell_type": "code",
   "execution_count": null,
   "metadata": {},
   "outputs": [],
   "source": [
    "print(T2_join)"
   ]
  },
  {
   "cell_type": "code",
   "execution_count": null,
   "metadata": {},
   "outputs": [],
   "source": [
    "T2_join.mean(dim='Time').plot()"
   ]
  },
  {
   "cell_type": "code",
   "execution_count": null,
   "metadata": {},
   "outputs": [],
   "source": [
    "# T2_join.hvplot.image('west_east', 'south_north',\n",
    "#                     groupby='Time', rasterize=True, dynamic=True, width=800, height=600,\n",
    "#                     widget_type='scrubber', widget_location='bottom', cmap='RdBu_r')"
   ]
  },
  {
   "cell_type": "markdown",
   "metadata": {},
   "source": [
    "### convert to DaskArray"
   ]
  },
  {
   "cell_type": "code",
   "execution_count": null,
   "metadata": {},
   "outputs": [],
   "source": [
    "da = T2_join.chunk(chunks={'Time':1})\n",
    "da"
   ]
  },
  {
   "cell_type": "code",
   "execution_count": null,
   "metadata": {},
   "outputs": [],
   "source": [
    "# da.XLONG.plot()"
   ]
  },
  {
   "cell_type": "code",
   "execution_count": null,
   "metadata": {},
   "outputs": [],
   "source": [
    "# %%time\n",
    "da.mean(dim='Time').plot()"
   ]
  },
  {
   "cell_type": "code",
   "execution_count": null,
   "metadata": {},
   "outputs": [],
   "source": [
    "%%time\n",
    "da.mean().compute()"
   ]
  },
  {
   "cell_type": "code",
   "execution_count": null,
   "metadata": {},
   "outputs": [],
   "source": [
    "ds = da.to_dataset()\n",
    "ds"
   ]
  },
  {
   "cell_type": "markdown",
   "metadata": {},
   "source": [
    "### cartopy and shapely plot"
   ]
  },
  {
   "cell_type": "code",
   "execution_count": null,
   "metadata": {},
   "outputs": [],
   "source": [
    "## THIS NEEDS cartopy 0.18 but can't install it for some reason...\n",
    "\n",
    "import shapely.geometry as sgeom\n",
    "import cartopy.crs as ccrs\n",
    "\n",
    "\n",
    "box = sgeom.box(minx=35, maxx=175, miny=-80, maxy=-88.5)\n",
    "x0, y0, x1, y1 = box.bounds\n",
    "myproj = ccrs.SouthPolarStereo(central_longitude=180)\n",
    "# myproj = ccrs.Orthographic()\n",
    "\n",
    "plt.figure(figsize=(4, 5), facecolor='white', dpi=144)\n",
    "ax = plt.axes(projection=myproj)\n",
    "ax.set_extent([x0, x1, y0, y1], ccrs.PlateCarree())  \n",
    "ax.coastlines('50m')\n",
    "# ax.stock_img()\n",
    "\n",
    "# pcm1 = ax.pcolormesh(da.west_east, ds.south_north, da.mean(dim='Time'),\\\n",
    "#                     vmin=268, vmax=275,\\\n",
    "#                     transform=ccrs.PlateCarree())#, cmap=plt.get_cmap(\"BuPu\")\n",
    "## Alternative\n",
    "kwargs = dict(ax=ax,\n",
    "              x='west_east', y='south_north',\n",
    "              transform=ccrs.PlateCarree())#, vmin=270, vmax=275)\n",
    "pcm1 = da.mean(dim='Time').plot.contourf(levels=31, robust=True,  **kwargs)\n",
    "\n",
    "\n",
    "# # c = plt.colorbar(orientation='vertical', shrink=0.4, pad=0.10)\n",
    "# cb1 = plt.colorbar(pcm1, ax=ax, label=r'Surface Heat Flux $[W {m^{-2}}]$', \\\n",
    "#                    orientation='horizontal', extend='both', \\\n",
    "#                   shrink=0.9, pad=0.01)\n",
    "# ax.plot(ds.lon[si, sj], ds.lat[si, sj], 'ko', markersize=3, transform=ccrs.PlateCarree())\n",
    "# ax.plot(ds.lon[ai, aj], ds.lat[ai, aj], 'ko', markersize=3, transform=ccrs.PlateCarree())\n",
    "# # ax.plot(LON[ssj, ssi], LAT[ssj, ssi], 'ko', markersize=2, transform=ccrs.PlateCarree())\n",
    "\n",
    "ax.gridlines(color=\"black\", linestyle=\"dotted\")\n",
    "# plt.suptitle('LH')\n",
    "# plt.tight_layout()\n",
    "# plt.savefig('figs/mapplot_TNB_Fsfc_mean.png')\n",
    "plt.show()"
   ]
  },
  {
   "cell_type": "code",
   "execution_count": null,
   "metadata": {},
   "outputs": [],
   "source": [
    "from cartopy import config\n",
    "import cartopy.crs as ccrs\n",
    "import cartopy.feature as cfeature\n",
    "\n",
    "plt.figure(figsize=(10,5), dpi= 90)\n",
    "\n",
    "# here is where you specify what projection you want to use\n",
    "ax = plt.axes(projection=ccrs.PlateCarree())\n",
    "\n",
    "# here is here you tell Cartopy that the projection\n",
    "# of your 'x' and 'y' are geographic (lons and lats)\n",
    "# and that you want to transform those lats and lons\n",
    "# into 'x' and 'y' in the projection\n",
    "plt.contourf(da.west_east, da.south_north, da.mean(dim='Time'), 60,\n",
    "             transform=ccrs.PlateCarree());\n",
    "# kwargs = dict(ax=ax,\n",
    "#               x='west_east', y='south_north',\n",
    "#               transform=ccrs.PlateCarree())#, vmin=270, vmax=275)\n",
    "# pcm1 = da.mean(dim='Time').plot.contourf(levels=31, robust=True,  **kwargs)\n",
    "\n",
    "gl = ax.gridlines(crs=ccrs.PlateCarree(), draw_labels=True,\n",
    "                  linewidth=2, color='gray', alpha=0.5, linestyle='--');\n",
    "ax.coastlines()\n",
    "ax.add_feature(cfeature.LAND)\n",
    "\n",
    "plt.colorbar()"
   ]
  },
  {
   "cell_type": "code",
   "execution_count": null,
   "metadata": {},
   "outputs": [],
   "source": []
  },
  {
   "cell_type": "markdown",
   "metadata": {},
   "source": [
    "## Test write to zarr"
   ]
  },
  {
   "cell_type": "code",
   "execution_count": null,
   "metadata": {},
   "outputs": [],
   "source": [
    "outdir = os.path.join(gcsdir, ampsdir, amps_ver, domain, 'zarr-cf/')\n",
    "# fs.glob(outdir)\n",
    "fs.ls(outdir)"
   ]
  },
  {
   "cell_type": "code",
   "execution_count": null,
   "metadata": {},
   "outputs": [],
   "source": [
    "import json\n",
    "\n",
    "with open('secrets/ldeo-glaciology-bc97b12df06b.json') as token_file:\n",
    "    token = json.load(token_file)\n",
    "# gcs = gcsfs.GCSFileSystem(token=token)\n",
    "\n",
    "amps_mapper = fsspec.get_mapper(outdir + 'test_20161225-cf.zarr', mode='ab',\n",
    "                            token=token)\n",
    "# ds.to_zarr(amps_mapper, mode='w');"
   ]
  },
  {
   "cell_type": "code",
   "execution_count": null,
   "metadata": {},
   "outputs": [],
   "source": []
  },
  {
   "cell_type": "code",
   "execution_count": null,
   "metadata": {},
   "outputs": [],
   "source": []
  },
  {
   "cell_type": "code",
   "execution_count": null,
   "metadata": {},
   "outputs": [],
   "source": []
  },
  {
   "cell_type": "markdown",
   "metadata": {},
   "source": [
    "## Close your cluster, be a good denizen."
   ]
  },
  {
   "cell_type": "code",
   "execution_count": 9,
   "metadata": {},
   "outputs": [],
   "source": [
    "cluster.shutdown()"
   ]
  },
  {
   "cell_type": "code",
   "execution_count": null,
   "metadata": {},
   "outputs": [],
   "source": []
  }
 ],
 "metadata": {
  "kernelspec": {
   "display_name": "Python 3",
   "language": "python",
   "name": "python3"
  },
  "language_info": {
   "codemirror_mode": {
    "name": "ipython",
    "version": 3
   },
   "file_extension": ".py",
   "mimetype": "text/x-python",
   "name": "python",
   "nbconvert_exporter": "python",
   "pygments_lexer": "ipython3",
   "version": "3.8.6"
  }
 },
 "nbformat": 4,
 "nbformat_minor": 4
}
